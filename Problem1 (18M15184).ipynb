{
 "cells": [
  {
   "cell_type": "markdown",
   "metadata": {},
   "source": [
    "# __Problem 1__\n",
    "\n",
    "### batch steepest gradient method と Newton based method の実装"
   ]
  },
  {
   "cell_type": "code",
   "execution_count": 13,
   "metadata": {
    "collapsed": true
   },
   "outputs": [],
   "source": [
    "import numpy as np\n",
    "import matplotlib.pyplot as plt"
   ]
  },
  {
   "cell_type": "markdown",
   "metadata": {},
   "source": [
    "### Toy Dataset の生成"
   ]
  },
  {
   "cell_type": "code",
   "execution_count": 14,
   "metadata": {
    "collapsed": true
   },
   "outputs": [],
   "source": [
    "n = 40\n",
    "omega = np.random.randn()\n",
    "noise = 0.8 * np.random.randn(n)\n",
    "\n",
    "x = np.random.randn(n,2)\n",
    "y = 2 * (omega * x[:,0] + x[:,1] + noise >0) - 1"
   ]
  },
  {
   "cell_type": "markdown",
   "metadata": {},
   "source": [
    "### batch steepest gradient method の実装"
   ]
  },
  {
   "cell_type": "code",
   "execution_count": 15,
   "metadata": {
    "collapsed": true
   },
   "outputs": [],
   "source": [
    "class BSGM:\n",
    "    \"\"\"    \n",
    "    method:\n",
    "        update(grad):　w の更新\n",
    "        d()         : 勾配の計算\n",
    "        J()　　　   :　目的関数\n",
    "        training()  :　学習\n",
    "        \n",
    "    \"\"\"\n",
    "    def __init__(self, x, y, alpha = 0.01, lamda = 0.01, loop = 50):\n",
    "        self.x = x\n",
    "        self.y = y\n",
    "        self.col = self.x.shape[1]\n",
    "        self.alpha = alpha\n",
    "        self.lamda = lamda\n",
    "        self.loop = loop\n",
    "\n",
    "    def update(self,grad):                                   \n",
    "        return self.w + self.alpha * grad\n",
    "    \n",
    "    def d(self):\n",
    "        obj = np.zeros(self.col)\n",
    "        for x_, y_ in zip(self.x,self.y):\n",
    "            index = -y_ * self.w.dot(x_)\n",
    "            obj += (1 - 1/(1 + np.e ** index)) * -y_ * x_\n",
    "        obj += 2 * self.lamda * self.w\n",
    "        \n",
    "        return -obj\n",
    "    \n",
    "    def J(self):\n",
    "        obj = 0\n",
    "        for x_, y_ in zip(self.x, self.y):\n",
    "            index = -y_ * self.w.dot(x_)\n",
    "            obj += np.log(1 + np.e ** index)\n",
    "        obj += self.lamda * self.w.dot(self.w)\n",
    "        \n",
    "        return obj\n",
    "    \n",
    "    def training(self):\n",
    "        self.w = np.zeros(self.col)\n",
    "        self.J_list = []\n",
    "        for i in range(self.loop):\n",
    "            self.J_list.append(self.J())\n",
    "            grad = self.d()\n",
    "            self.w = self.update(grad)\n",
    "        \n",
    "        return self.J_list, self.w"
   ]
  },
  {
   "cell_type": "markdown",
   "metadata": {},
   "source": [
    "### Newton based method の実装"
   ]
  },
  {
   "cell_type": "code",
   "execution_count": 16,
   "metadata": {
    "collapsed": true
   },
   "outputs": [],
   "source": [
    "class NBM:\n",
    "    \"\"\"   \n",
    "    method:\n",
    "        batch steepest gradient method と同様\n",
    "    \"\"\"\n",
    "    def __init__(self, x, y, alpha = 0.01, lamda = 0.01, loop = 50):\n",
    "        self.x = x\n",
    "        self.y = y\n",
    "        self.col = self.x.shape[1]\n",
    "        self.alpha = alpha\n",
    "        self.lamda = lamda\n",
    "        self.loop = loop\n",
    "        \n",
    "    def update(self,grad):\n",
    "        return self.w + self.alpha * grad\n",
    "    \n",
    "    def d(self):\n",
    "        dJ = np.zeros(self.col)\n",
    "        ddJ = np.zeros((self.col,self.col))\n",
    "        for x_, y_ in zip(self.x, self.y):\n",
    "            index = -y_ * self.w.dot(x_)\n",
    "            dJ += (1 - 1/(1 + np.e ** index)) * -y_ * x_\n",
    "            x__ = x_[:,np.newaxis]\n",
    "            ddJ += ((np.e ** index)/((1 + np.e ** index)**2)) * x__.dot(x__.T)\n",
    "            \n",
    "        dJ += 2 * self.lamda * self.w\n",
    "        ddJ += 2 * self.lamda\n",
    "        ddJ_inv = np.linalg.inv(ddJ)\n",
    "        obj = ddJ_inv.dot(dJ)\n",
    "\n",
    "        return -obj\n",
    "    \n",
    "    def J(self):\n",
    "        obj = 0\n",
    "        for x_, y_ in zip(self.x, self.y):\n",
    "            index = -y_ * self.w.dot(x_)\n",
    "            obj += np.log(1 + np.e ** index)\n",
    "        obj += self.lamda * self.w.dot(self.w)\n",
    "        \n",
    "        return obj\n",
    "    \n",
    "    def training(self):\n",
    "        self.w = np.zeros(self.col)\n",
    "        self.J_list = []\n",
    "        for i in range(self.loop):\n",
    "            self.J_list.append(self.J())\n",
    "            grad = self.d()\n",
    "            self.w = self.update(grad)\n",
    "        \n",
    "        return self.J_list, self.w"
   ]
  },
  {
   "cell_type": "markdown",
   "metadata": {},
   "source": [
    "### パラメータの決定 "
   ]
  },
  {
   "cell_type": "code",
   "execution_count": 17,
   "metadata": {
    "collapsed": true
   },
   "outputs": [],
   "source": [
    "alpha, lamda, loop = 0.01, 0.01, 50"
   ]
  },
  {
   "cell_type": "markdown",
   "metadata": {},
   "source": [
    "### 実行 "
   ]
  },
  {
   "cell_type": "code",
   "execution_count": 18,
   "metadata": {
    "collapsed": true
   },
   "outputs": [],
   "source": [
    "clr = BSGM(x,y,alpha = alpha, lamda = lamda, loop = loop)\n",
    "J_list_BSGM, w_BSGM = clr.training()\n",
    "\n",
    "clr2 = NBM(x,y,alpha = alpha, lamda = lamda, loop = loop)\n",
    "J_list_NBM, w_NBM = clr2.training()"
   ]
  },
  {
   "cell_type": "markdown",
   "metadata": {},
   "source": [
    "### 目的関数の推移グラフの表示 "
   ]
  },
  {
   "cell_type": "code",
   "execution_count": 19,
   "metadata": {},
   "outputs": [
    {
     "data": {
      "image/png": "[encoded data removed]",
      "text/plain": [
       "<matplotlib.figure.Figure at 0x8f98f98>"
      ]
     },
     "metadata": {},
     "output_type": "display_data"
    }
   ],
   "source": [
    "t = np.arange(loop)\n",
    "\n",
    "p1 = plt.plot(t,J_list_BSGM)\n",
    "p2 = plt.plot(t,J_list_NBM)\n",
    "plt.legend((p1[0],p2[0]),(\"BSGM\",\"NBM\"))\n",
    "plt.show()"
   ]
  }
 ],
 "metadata": {
  "kernelspec": {
   "display_name": "Python 3",
   "language": "python",
   "name": "python3"
  },
  "language_info": {
   "codemirror_mode": {
    "name": "ipython",
    "version": 3
   },
   "file_extension": ".py",
   "mimetype": "text/x-python",
   "name": "python",
   "nbconvert_exporter": "python",
   "pygments_lexer": "ipython3",
   "version": "3.6.0"
  }
 },
 "nbformat": 4,
 "nbformat_minor": 2
}
