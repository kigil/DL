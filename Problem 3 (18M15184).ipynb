{
 "cells": [
  {
   "cell_type": "markdown",
   "metadata": {},
   "source": [
    "###  projected gradient を使った negative dual Lagrange function の実装"
   ]
  },
  {
   "cell_type": "code",
   "execution_count": 18,
   "metadata": {
    "collapsed": true
   },
   "outputs": [],
   "source": [
    "import numpy as np\n",
    "import matplotlib.pyplot as plt "
   ]
  },
  {
   "cell_type": "markdown",
   "metadata": {},
   "source": [
    "### Toy Dataset の生成 "
   ]
  },
  {
   "cell_type": "code",
   "execution_count": 19,
   "metadata": {
    "collapsed": true
   },
   "outputs": [],
   "source": [
    "n = 40\n",
    "omega = np.random.randn()\n",
    "noise = 0.8 * np.random.randn(n)\n",
    "\n",
    "x = np.random.randn(n,2)\n",
    "y = 2 * (omega * x[:,0] + x[:,1] + noise >0) - 1"
   ]
  },
  {
   "cell_type": "markdown",
   "metadata": {},
   "source": [
    "### negative dual Lagrange function の実装"
   ]
  },
  {
   "cell_type": "code",
   "execution_count": 20,
   "metadata": {
    "collapsed": true
   },
   "outputs": [],
   "source": [
    "class DualLagrange:\n",
    "    \"\"\"\n",
    "    L(K,alpha)            : 双対ラグランジュ関数の計算\n",
    "    Loss_regularization(w): hingeロスと正則化項の合計\n",
    "    update_w(alpha)　　　 : wの更新\n",
    "    update_alpha(K,alpha) : alphaの更新\n",
    "    training()            : 学習\n",
    "    \"\"\"\n",
    "    def __init__(self, x, y, step = 0.01, lamda = 0.01, loop = 50):\n",
    "        self.x = x\n",
    "        self.y = y\n",
    "        self.step = step\n",
    "        self.lamda = lamda\n",
    "        self.loop = loop\n",
    "    \n",
    "    def L(self, K, alpha):\n",
    "        return -1/(4 * self.lamda) * alpha.T.dot(K).dot(alpha) + sum(alpha)\n",
    "    \n",
    "    def Loss_regularization(self, w):\n",
    "        t = 1 - self.y * self.x.dot(w)\n",
    "        return np.sum(list(map(lambda x:0 if x<0 else x, t))) + self.lamda * w.dot(w)\n",
    "    \n",
    "    def update_w(self, alpha):\n",
    "        return 1/(2 * self.lamda) * np.sum(alpha * self.y * self.x.T, axis = 1)\n",
    "    \n",
    "    def update_alpha(self, K, alpha):\n",
    "        a = alpha - self.step * (1/(2*self.lamda)* K.dot(alpha) - np.ones(len(alpha)))\n",
    "        return np.array(list(map(lambda x:1 if x>1 else(0 if x<0 else x), a)))\n",
    "    \n",
    "    def training(self):\n",
    "        L_list = []\n",
    "        Lr_list = []\n",
    "        self.x = np.hstack((self.x, np.ones(self.x.shape[0]).reshape(-1,1)))\n",
    "        alpha = np.zeros(self.x.shape[0])\n",
    "        K = (self.x.T * self.y).T.dot(self.x.T * self.y)\n",
    "        for i in range(self.loop):\n",
    "            L_list.append(self.L(K,alpha))\n",
    "            w = self.update_w(alpha)\n",
    "            Lr_list.append(self.Loss_regularization(w))\n",
    "            alpha = self.update_alpha(K,alpha)\n",
    "        \n",
    "        return L_list, Lr_list"
   ]
  },
  {
   "cell_type": "markdown",
   "metadata": {},
   "source": [
    "### パラメータの設定"
   ]
  },
  {
   "cell_type": "code",
   "execution_count": 21,
   "metadata": {
    "collapsed": true
   },
   "outputs": [],
   "source": [
    "step, lamda, loop = 0.01, 1, 500"
   ]
  },
  {
   "cell_type": "markdown",
   "metadata": {},
   "source": [
    "### 実行 "
   ]
  },
  {
   "cell_type": "code",
   "execution_count": 22,
   "metadata": {
    "collapsed": true
   },
   "outputs": [],
   "source": [
    "clr = DualLagrange(x,y,step = step,lamda = lamda, loop = loop)\n",
    "L_list, Lr_list = clr.training()"
   ]
  },
  {
   "cell_type": "markdown",
   "metadata": {},
   "source": [
    "### グラフのプロット "
   ]
  },
  {
   "cell_type": "code",
   "execution_count": 23,
   "metadata": {},
   "outputs": [
    {
     "data": {
      "image/png": "[encoded data removed]",
      "text/plain": [
       "<matplotlib.figure.Figure at 0x909fdd8>"
      ]
     },
     "metadata": {},
     "output_type": "display_data"
    }
   ],
   "source": [
    "t = np.arange(loop)\n",
    "\n",
    "p1 = plt.plot(t,L_list)\n",
    "p2 = plt.plot(t,Lr_list)\n",
    "plt.legend((p1[0],p2[0]),(\"dual Lagrange\",\"loss and regularization\"))\n",
    "plt.show()"
   ]
  }
 ],
 "metadata": {
  "kernelspec": {
   "display_name": "Python 3",
   "language": "python",
   "name": "python3"
  },
  "language_info": {
   "codemirror_mode": {
    "name": "ipython",
    "version": 3
   },
   "file_extension": ".py",
   "mimetype": "text/x-python",
   "name": "python",
   "nbconvert_exporter": "python",
   "pygments_lexer": "ipython3",
   "version": "3.6.0"
  }
 },
 "nbformat": 4,
 "nbformat_minor": 2
}
